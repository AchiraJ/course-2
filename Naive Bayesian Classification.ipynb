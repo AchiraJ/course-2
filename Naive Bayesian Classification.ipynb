{
 "cells": [
  {
   "cell_type": "code",
   "execution_count": null,
   "metadata": {},
   "outputs": [],
   "source": [
    "# You might need to install spacy and download an english model\n",
    "# !pip install spacy\n",
    "# !python -m spacy download en"
   ]
  },
  {
   "cell_type": "code",
   "execution_count": 1,
   "metadata": {},
   "outputs": [],
   "source": [
    "# We have a bunch of emails on disk\n",
    "\n",
    "import glob\n",
    "import io\n",
    "import spacy\n",
    "from collections import Counter\n",
    "import pandas as pd\n",
    "import email\n",
    "import re\n",
    "\n",
    "# nlp = spacy.load('en')\n",
    "\n",
    "# corpus = Counter()\n",
    "# emails = []\n",
    "\n",
    "# with open('./data/SPAMTrain.label', 'r') as file:\n",
    "#     for i, line in enumerate(file):\n",
    "#         # You can always look at all of the files too!\n",
    "#         print('.', end='')\n",
    "        \n",
    "#         spam, eml = line.split(' ')\n",
    "#         eml = \"./data/TRAINING/{}\".format(eml.strip())\n",
    "        \n",
    "#         c = Counter()\n",
    "#         with open(eml, 'r', errors='replace') as full_message: \n",
    "#             msg = email.message_from_string(full_message.read())\n",
    "#             if not msg.is_multipart() and msg.get_content_type() == 'text/plain':\n",
    "#                 payload = str(msg.get_payload())\n",
    "#                 for t in nlp(re.sub(r'\\s+', ' ', payload)):\n",
    "#                     c[t.lemma_] += 1\n",
    "\n",
    "#         if len(c) > 0:\n",
    "#             emails.append({'SPAM_VALUE': spam, **dict(c)})\n",
    "\n",
    "# eml_df = pd.DataFrame(emails)\n",
    "\n",
    "# keys = []\n",
    "\n",
    "# for c in eml_df.columns:\n",
    "#     if eml_df[c].sum() > 10:\n",
    "#         print('.', end='')\n",
    "#         keys.append(c)\n",
    "\n",
    "# eml_df = eml_df[keys]\n",
    "\n",
    "# eml_df.to_csv('./email-training.csv')"
   ]
  },
  {
   "cell_type": "code",
   "execution_count": 6,
   "metadata": {},
   "outputs": [],
   "source": [
    "eml_df = pd.read_csv('./email-training.csv')"
   ]
  },
  {
   "cell_type": "code",
   "execution_count": 7,
   "metadata": {},
   "outputs": [
    {
     "name": "stdout",
     "output_type": "stream",
     "text": [
      "             precision    recall  f1-score   support\n",
      "\n",
      "          0       1.00      0.58      0.73       643\n",
      "          1       0.89      1.00      0.94      2298\n",
      "\n",
      "avg / total       0.92      0.91      0.90      2941\n",
      "\n"
     ]
    }
   ],
   "source": [
    "from sklearn.naive_bayes import GaussianNB, MultinomialNB, BernoulliNB\n",
    "from sklearn.metrics import classification_report\n",
    "\n",
    "clf = GaussianNB()\n",
    "\n",
    "X = eml_df[eml_df.columns[~eml_df.columns.isin(['SPAM_VALUE'])]].fillna(value=0)\n",
    "y = eml_df['SPAM_VALUE']\n",
    "\n",
    "clf.fit(X, y)\n",
    "\n",
    "# Why is the value what it is? What would you do to fix this?\n",
    "\n",
    "print(classification_report(clf.predict(X), y))"
   ]
  },
  {
   "cell_type": "code",
   "execution_count": 11,
   "metadata": {},
   "outputs": [
    {
     "name": "stdout",
     "output_type": "stream",
     "text": [
      "             precision    recall  f1-score   support\n",
      "\n",
      "          0       0.94      0.64      0.76        96\n",
      "          1       0.93      0.99      0.96       493\n",
      "\n",
      "avg / total       0.93      0.93      0.93       589\n",
      "\n"
     ]
    }
   ],
   "source": [
    "from sklearn.model_selection import train_test_split\n",
    "\n",
    "X_train, X_test, y_train, y_test = train_test_split(X, y, test_size=0.2, random_state=42)\n",
    "\n",
    "clf = GaussianNB()\n",
    "\n",
    "clf.fit(X_train, y_train)\n",
    "\n",
    "print(classification_report(clf.predict(X_test), y_test))"
   ]
  },
  {
   "cell_type": "code",
   "execution_count": 35,
   "metadata": {},
   "outputs": [
    {
     "data": {
      "text/plain": [
       "array([[ 38,  16],\n",
       "       [ 17, 398]])"
      ]
     },
     "execution_count": 35,
     "metadata": {},
     "output_type": "execute_result"
    }
   ],
   "source": [
    "from sklearn.metrics import confusion_matrix\n",
    "\n",
    "confusion_matrix(clf.predict(X_test), y_test)"
   ]
  },
  {
   "cell_type": "markdown",
   "metadata": {},
   "source": [
    "I was able to get ~0.94 for precision on both Ham(1) and Spam(0). That's pretty good! The recall isn't so good actually. A 0.60 recall isn't so great, although we could probably do better on parsing the Emails themselves. Think of some reasons how this result could get better."
   ]
  },
  {
   "cell_type": "markdown",
   "metadata": {},
   "source": [
    "# BONUS word2vec\n",
    "\n",
    "Word2Vec is an amazing model to fit natural language to a vectorized representation. Matter of fact it's called representation learning and basically will take text and output something that we can do math on!\n",
    "\n",
    "Below I've done the heavy lifting of giving you a word2vec file to train on. Try out GaussianNB and see what happens. Is it any better or worse?"
   ]
  },
  {
   "cell_type": "code",
   "execution_count": 22,
   "metadata": {},
   "outputs": [
    {
     "name": "stdout",
     "output_type": "stream",
     "text": [
      "......................................................................................................................................................................................................................................................................................................................................................................................................................................................................................................................................................................................................................................................................................................................................................................................................................................................................................................................................................................................................................................................................................................................................................................................................................................................................................................................................................................................................................................................................................................................................................................................................................................................................................................................................................................................................................................................................................................................................................................................................................................................................................................................................................................................................................................................................................................................................................................................................................................................................................................................................................................................................................................................................................................................................................................................................................................................................................................................................................................................................................................................................................................................................................................................................................................................................................................................................................................................................................................................................................................................................................................................................................................................................................................................................................................................................................................................................................................................................................................................................................................................................................................................................................................................................................................................................................................................................................................................................................................................................................................."
     ]
    }
   ],
   "source": [
    "# emails = []\n",
    "# import numpy as np\n",
    "\n",
    "# with open('./data/SPAMTrain.label', 'r') as file:\n",
    "#     for i, line in enumerate(file):\n",
    "#         # You can always look at all of the files too!\n",
    "#         print('.', end='')\n",
    "        \n",
    "#         spam, eml = line.split(' ')\n",
    "#         eml = \"./data/TRAINING/{}\".format(eml.strip())\n",
    "        \n",
    "#         vector = np.zeros(0)\n",
    "#         with open(eml, 'r', errors='replace') as full_message: \n",
    "#             msg = email.message_from_string(full_message.read())\n",
    "#             if not msg.is_multipart() and msg.get_content_type() == 'text/plain':\n",
    "#                 payload = str(msg.get_payload())\n",
    "                \n",
    "#                 s = nlp(re.sub(r'\\s+', ' ', payload))\n",
    "                \n",
    "#                 vector = s.vector\n",
    "\n",
    "#         if np.sum(vector) > 0:\n",
    "#             emails.append({'SPAM_VALUE': spam, **dict(zip(range(384), vector))})\n",
    "\n",
    "# eml_df = pd.DataFrame(emails)\n",
    "\n",
    "# eml_df.to_csv('./emails-word2vec.csv')"
   ]
  },
  {
   "cell_type": "code",
   "execution_count": 23,
   "metadata": {},
   "outputs": [],
   "source": [
    "eml_df = pd.read_csv('./emails-word2vec.csv')"
   ]
  },
  {
   "cell_type": "code",
   "execution_count": 34,
   "metadata": {},
   "outputs": [
    {
     "name": "stdout",
     "output_type": "stream",
     "text": [
      "             precision    recall  f1-score   support\n",
      "\n",
      "          0       0.69      0.70      0.70        54\n",
      "          1       0.96      0.96      0.96       415\n",
      "\n",
      "avg / total       0.93      0.93      0.93       469\n",
      "\n"
     ]
    }
   ],
   "source": [
    "from sklearn.svm import LinearSVC\n",
    "from sklearn.metrics import classification_report\n",
    "\n",
    "clf = LinearSVC(C=50)\n",
    "\n",
    "X = eml_df[eml_df.columns[~eml_df.columns.isin(['SPAM_VALUE'])]].fillna(value=0)\n",
    "y = eml_df['SPAM_VALUE']\n",
    "\n",
    "X_train, X_test, y_train, y_test = train_test_split(X, y, test_size=0.2, random_state=42)\n",
    "\n",
    "clf.fit(X_train, y_train)\n",
    "\n",
    "print(classification_report(clf.predict(X_test), y_test))"
   ]
  }
 ],
 "metadata": {
  "kernelspec": {
   "display_name": "Python 3",
   "language": "python",
   "name": "python3"
  },
  "language_info": {
   "codemirror_mode": {
    "name": "ipython",
    "version": 3
   },
   "file_extension": ".py",
   "mimetype": "text/x-python",
   "name": "python",
   "nbconvert_exporter": "python",
   "pygments_lexer": "ipython3",
   "version": "3.6.5"
  }
 },
 "nbformat": 4,
 "nbformat_minor": 2
}
